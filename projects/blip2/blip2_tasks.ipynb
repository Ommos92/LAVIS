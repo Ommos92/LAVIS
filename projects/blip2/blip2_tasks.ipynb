{
 "cells": [
  {
   "cell_type": "code",
   "execution_count": 4,
   "metadata": {},
   "outputs": [],
   "source": [
    "import torch\n",
    "from PIL import Image\n",
    "import requests\n",
    "from lavis.models import load_model_and_preprocess"
   ]
  },
  {
   "cell_type": "code",
   "execution_count": 5,
   "metadata": {},
   "outputs": [
    {
     "name": "stdout",
     "output_type": "stream",
     "text": [
      "Using downloaded and verified file: /home/ommos92/.cache/lavis/msvd/annotations/qa_train.json\n",
      "Using downloaded and verified file: /home/ommos92/.cache/lavis/msvd/annotations/qa_val.json\n",
      "Using downloaded and verified file: /home/ommos92/.cache/lavis/msvd/annotations/qa_test.json\n",
      "Using downloaded and verified file: /home/ommos92/.cache/lavis/msvd/annotations/qa_ans2label.json\n",
      "dict_keys(['train', 'val', 'test'])\n",
      "30933\n",
      "{'video': '/home/ommos92/.cache/lavis/msvd/videos/-4wsuPCjDBc_5_15.avi', 'text_input': 'what is chewing on a nut?', 'answers': 35, 'question_id': '0000000', 'instance_id': '0'}\n"
     ]
    }
   ],
   "source": [
    "from lavis.datasets.builders import load_dataset\n",
    "msvd_dataset = load_dataset(\"msvd_qa\")\n",
    "\n",
    "print(msvd_dataset.keys())\n",
    "print(len(msvd_dataset[\"train\"]))\n",
    "print(msvd_dataset[\"train\"][0])\n",
    "\n"
   ]
  },
  {
   "cell_type": "code",
   "execution_count": 6,
   "metadata": {},
   "outputs": [
    {
     "name": "stdout",
     "output_type": "stream",
     "text": [
      "300\n"
     ]
    }
   ],
   "source": [
    "#Write a function to convert the .avi into a set of images. Then we can randomly \n",
    "# sample from this set of images.\n",
    "import cv2\n",
    "from PIL import Image\n",
    "import random\n",
    "\n",
    "def convert_avi(data):\n",
    "    # Open the video file\n",
    "    cap = cv2.VideoCapture(data['video'])\n",
    "\n",
    "    images = []\n",
    "    while(cap.isOpened()):\n",
    "        # Read the video frame by frame\n",
    "        ret, frame = cap.read()\n",
    "        if ret:\n",
    "            # Convert the frame to RGB (OpenCV uses BGR by default)\n",
    "            frame = cv2.cvtColor(frame, cv2.COLOR_BGR2RGB)\n",
    "            # Convert the frame to a PIL Image and append to the list\n",
    "            images.append(Image.fromarray(frame))\n",
    "        else:\n",
    "            break\n",
    "\n",
    "    # Close the video file\n",
    "    cap.release()\n",
    "\n",
    "    # Return the list of PIL Images\n",
    "    return images\n",
    "\n",
    "def random_sample(images, num_samples):\n",
    "    #Randomly select 'num_samples' images from the list\n",
    "    sampled_images = random.sample(images, num_samples)\n",
    "    return sampled_images\n",
    "\n",
    "\n",
    "images = convert_avi(msvd_dataset[\"train\"][0])\n",
    "print(len(images))\n"
   ]
  },
  {
   "cell_type": "code",
   "execution_count": 7,
   "metadata": {},
   "outputs": [],
   "source": [
    "\n",
    "# setup device to use\n",
    "device = torch.device(\"cuda:1\") if torch.cuda.is_available() else \"cpu\""
   ]
  },
  {
   "cell_type": "code",
   "execution_count": 8,
   "metadata": {},
   "outputs": [
    {
     "name": "stderr",
     "output_type": "stream",
     "text": [
      "Loading checkpoint shards: 100%|██████████| 2/2 [00:17<00:00,  8.63s/it]\n"
     ]
    }
   ],
   "source": [
    "#Load the model\n",
    "model, vis_processors, _ = load_model_and_preprocess(\n",
    "    name=\"blip2_opt\", model_type=\"pretrain_opt6.7b\", is_eval=True, device=device\n",
    ")\n"
   ]
  },
  {
   "cell_type": "code",
   "execution_count": null,
   "metadata": {},
   "outputs": [],
   "source": [
    "from lavis.common.vqa_tools.vqa_eval import VQAEval\n",
    "\n",
    "# Loop over the videos in the dataset\n",
    "for video in msvd_dataset[\"test\"]:\n",
    "    # Sample a random frame from the video\n",
    "    frame = random_sample(convert_avi(video), 1)\n",
    "    \n",
    "    # Perform VQA on the frame\n",
    "    question, predicted_answer = model.predict(frame)\n",
    "    \n",
    "    # Get the ground truth from the annotation\n",
    "    ground_truth = msvd_dataset['annotation'][video]\n",
    "    ground_truth_question = ground_truth['question']\n",
    "    ground_truth_answer = ground_truth['answer']\n",
    "    \n",
    "    # Ensure the predicted question matches the ground truth question\n",
    "    assert question == ground_truth_question, \"Predicted question does not match ground truth question\"\n",
    "    \n",
    "    # Create an instance of VQAEval\n",
    "    vqa_eval = VQAEval(ground_truth_answer, predicted_answer, n=2)\n",
    "    \n",
    "    # Compute the accuracy\n",
    "    vqa_eval.evaluate()\n",
    "    accuracy = vqa_eval.accuracy[\"overall\"]\n",
    "    \n",
    "    # Print or store the accuracy for this video\n",
    "    print(accuracy)"
   ]
  }
 ],
 "metadata": {
  "kernelspec": {
   "display_name": "lavis_dev",
   "language": "python",
   "name": "python3"
  },
  "language_info": {
   "codemirror_mode": {
    "name": "ipython",
    "version": 3
   },
   "file_extension": ".py",
   "mimetype": "text/x-python",
   "name": "python",
   "nbconvert_exporter": "python",
   "pygments_lexer": "ipython3",
   "version": "3.8.18"
  }
 },
 "nbformat": 4,
 "nbformat_minor": 2
}
