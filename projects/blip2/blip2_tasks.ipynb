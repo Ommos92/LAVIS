{
 "cells": [
  {
   "cell_type": "code",
   "execution_count": null,
   "metadata": {},
   "outputs": [],
   "source": [
    "import torch\n",
    "from PIL import Image\n",
    "import requests\n",
    "from lavis.models import load_model_and_preprocess"
   ]
  },
  {
   "cell_type": "code",
   "execution_count": 2,
   "metadata": {},
   "outputs": [
    {
     "name": "stdout",
     "output_type": "stream",
     "text": [
      "Downloading https://storage.googleapis.com/sfr-vision-language-research/LAVIS/datasets/msvd/qa_train.json to /home/ommos92/.cache/lavis/msvd/annotations/qa_train.json\n"
     ]
    },
    {
     "name": "stderr",
     "output_type": "stream",
     "text": [
      "100%|██████████| 5278177/5278177 [00:00<00:00, 42723309.18it/s]\n"
     ]
    },
    {
     "name": "stdout",
     "output_type": "stream",
     "text": [
      "Downloading https://storage.googleapis.com/sfr-vision-language-research/LAVIS/datasets/msvd/qa_val.json to /home/ommos92/.cache/lavis/msvd/annotations/qa_val.json\n"
     ]
    },
    {
     "name": "stderr",
     "output_type": "stream",
     "text": [
      "100%|██████████| 1094822/1094822 [00:00<00:00, 6273374.86it/s]\n"
     ]
    },
    {
     "name": "stdout",
     "output_type": "stream",
     "text": [
      "Downloading https://storage.googleapis.com/sfr-vision-language-research/LAVIS/datasets/msvd/qa_test.json to /home/ommos92/.cache/lavis/msvd/annotations/qa_test.json\n"
     ]
    },
    {
     "name": "stderr",
     "output_type": "stream",
     "text": [
      "100%|██████████| 2245356/2245356 [00:00<00:00, 29622785.70it/s]\n"
     ]
    },
    {
     "name": "stdout",
     "output_type": "stream",
     "text": [
      "Downloading https://storage.googleapis.com/sfr-vision-language-research/LAVIS/datasets/msvd/train_ans2label.json to /home/ommos92/.cache/lavis/msvd/annotations/qa_ans2label.json\n"
     ]
    },
    {
     "name": "stderr",
     "output_type": "stream",
     "text": [
      "100%|██████████| 37623/37623 [00:00<00:00, 5271498.23it/s]"
     ]
    },
    {
     "name": "stdout",
     "output_type": "stream",
     "text": [
      "dict_keys(['train', 'val', 'test'])\n",
      "30933\n",
      "{'video': '/home/ommos92/.cache/lavis/msvd/videos/-4wsuPCjDBc_5_15.avi', 'text_input': 'what is chewing on a nut?', 'answers': 35, 'question_id': '0000000', 'instance_id': '0'}\n"
     ]
    },
    {
     "name": "stderr",
     "output_type": "stream",
     "text": [
      "\n"
     ]
    }
   ],
   "source": [
    "from lavis.datasets.builders import load_dataset\n",
    "msvd_dataset = load_dataset(\"msvd_qa\")\n",
    "\n",
    "print(msvd_dataset.keys())\n",
    "# dict_keys(['train', 'val', 'test'])\n",
    "\n",
    "print(len(msvd_dataset[\"train\"]))\n",
    "# 566747\n",
    "\n",
    "print(msvd_dataset[\"train\"][0])"
   ]
  },
  {
   "cell_type": "code",
   "execution_count": 3,
   "metadata": {},
   "outputs": [
    {
     "name": "stdout",
     "output_type": "stream",
     "text": [
      "300\n"
     ]
    }
   ],
   "source": [
    "#Write a function to convert the .avi into a set of images. Then we can randomly \n",
    "# sample from this set of images.\n",
    "import cv2\n",
    "from PIL import Image\n",
    "import random\n",
    "\n",
    "def convert_avi(data):\n",
    "    # Open the video file\n",
    "    cap = cv2.VideoCapture(data['video'])\n",
    "\n",
    "    images = []\n",
    "    while(cap.isOpened()):\n",
    "        # Read the video frame by frame\n",
    "        ret, frame = cap.read()\n",
    "        if ret:\n",
    "            # Convert the frame to RGB (OpenCV uses BGR by default)\n",
    "            frame = cv2.cvtColor(frame, cv2.COLOR_BGR2RGB)\n",
    "            # Convert the frame to a PIL Image and append to the list\n",
    "            images.append(Image.fromarray(frame))\n",
    "        else:\n",
    "            break\n",
    "\n",
    "    # Close the video file\n",
    "    cap.release()\n",
    "\n",
    "    # Return the list of PIL Images\n",
    "    return images\n",
    "\n",
    "def random_sample(images, num_samples):\n",
    "    #Randomly select 'num_samples' images from the list\n",
    "    sampled_images = random.sample(images, num_samples)\n",
    "    return sampled_images\n",
    "\n",
    "\n",
    "images = convert_avi(msvd_dataset[\"train\"][0])\n",
    "print(len(images))\n"
   ]
  },
  {
   "cell_type": "code",
   "execution_count": null,
   "metadata": {},
   "outputs": [],
   "source": [
    "\n",
    "# setup device to use\n",
    "device = torch.device(\"cuda:1\") if torch.cuda.is_available() else \"cpu\""
   ]
  },
  {
   "cell_type": "code",
   "execution_count": null,
   "metadata": {},
   "outputs": [],
   "source": [
    "#Load the model\n",
    "model, vis_processors, _ = load_model_and_preprocess(\n",
    "    name=\"blip2_opt\", model_type=\"pretrain_opt6.7b\", is_eval=True, device=device\n",
    ")\n"
   ]
  }
 ],
 "metadata": {
  "kernelspec": {
   "display_name": "lavis_dev",
   "language": "python",
   "name": "python3"
  },
  "language_info": {
   "codemirror_mode": {
    "name": "ipython",
    "version": 3
   },
   "file_extension": ".py",
   "mimetype": "text/x-python",
   "name": "python",
   "nbconvert_exporter": "python",
   "pygments_lexer": "ipython3",
   "version": "3.8.18"
  }
 },
 "nbformat": 4,
 "nbformat_minor": 2
}
